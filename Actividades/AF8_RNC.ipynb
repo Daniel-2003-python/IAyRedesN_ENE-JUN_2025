{
  "nbformat": 4,
  "nbformat_minor": 0,
  "metadata": {
    "colab": {
      "provenance": [],
      "authorship_tag": "ABX9TyNoS3PWuHV2ea7pZi2TfJxr",
      "include_colab_link": true
    },
    "kernelspec": {
      "name": "python3",
      "display_name": "Python 3"
    },
    "language_info": {
      "name": "python"
    }
  },
  "cells": [
    {
      "cell_type": "markdown",
      "metadata": {
        "id": "view-in-github",
        "colab_type": "text"
      },
      "source": [
        "<a href=\"https://colab.research.google.com/github/Daniel-2003-python/IAyRedesN_ENE-JUN_2025/blob/main/Actividades/AF8_RNC.ipynb\" target=\"_parent\"><img src=\"https://colab.research.google.com/assets/colab-badge.svg\" alt=\"Open In Colab\"/></a>"
      ]
    },
    {
      "cell_type": "markdown",
      "source": [
        "# Redes Neuronales Convolucionales"
      ],
      "metadata": {
        "id": "BZZc_Nfptxhj"
      }
    },
    {
      "cell_type": "markdown",
      "source": [
        "AUTORES:\n",
        "\n",
        "DANIEL SILVA GARZA - 2109354 - N5\n",
        "\n",
        "PEDRO DAMIAN ARGUELLO PEREZ - 2048101 - N5\n",
        "\n",
        "OSCAR RAUL OSORIO MARTINEZ - 2004875 - N5\n",
        "\n",
        "BRANDON BAROCIO - 1960720 - N5\n"
      ],
      "metadata": {
        "id": "qDzy52Brt6Ny"
      }
    },
    {
      "cell_type": "code",
      "execution_count": 1,
      "metadata": {
        "id": "SgP70DLPphCo"
      },
      "outputs": [],
      "source": [
        "# Carga de Librerias\n",
        "\n",
        "import numpy as np\n",
        "import matplotlib.pyplot as plt\n",
        "import tensorflow as tf\n",
        "from tensorflow.keras.datasets import mnist\n",
        "from tensorflow.keras.models import Sequential\n",
        "from tensorflow.keras.layers import Conv2D, MaxPooling2D, Flatten, Dense\n",
        "from tensorflow.keras.utils import to_categorical"
      ]
    },
    {
      "cell_type": "code",
      "source": [
        "(train_data, train_labels), (test_data, test_labels) = mnist.load_data()"
      ],
      "metadata": {
        "colab": {
          "base_uri": "https://localhost:8080/"
        },
        "id": "f2DfwRhBqhZc",
        "outputId": "2107e0c4-64f2-4991-b720-d8fb7666995b"
      },
      "execution_count": 2,
      "outputs": [
        {
          "output_type": "stream",
          "name": "stdout",
          "text": [
            "Downloading data from https://storage.googleapis.com/tensorflow/tf-keras-datasets/mnist.npz\n",
            "\u001b[1m11490434/11490434\u001b[0m \u001b[32m━━━━━━━━━━━━━━━━━━━━\u001b[0m\u001b[37m\u001b[0m \u001b[1m0s\u001b[0m 0us/step\n"
          ]
        }
      ]
    },
    {
      "cell_type": "code",
      "source": [
        "# Redimensionar los datos para adaptarlos a la CNN: (28,28,1)\n",
        "train_data = train_data.reshape((train_data.shape[0], 28, 28, 1)).astype('float32') / 255\n",
        "test_data = test_data.reshape((test_data.shape[0], 28, 28, 1)).astype('float32') / 255\n",
        "\n",
        "# Convertir etiquetas a one-hot encoding\n",
        "train_labels_cat = to_categorical(train_labels)\n",
        "test_labels_cat = to_categorical(test_labels)"
      ],
      "metadata": {
        "id": "fokjRaENqpHg"
      },
      "execution_count": 3,
      "outputs": []
    },
    {
      "cell_type": "code",
      "source": [
        "model = Sequential([\n",
        "    Conv2D(32, (3, 3), activation='relu', input_shape=(28, 28, 1)),\n",
        "    MaxPooling2D((2, 2)),\n",
        "    Conv2D(64, (3, 3), activation='relu'),\n",
        "    MaxPooling2D((2, 2)),\n",
        "    Flatten(),\n",
        "    Dense(64, activation='relu'),\n",
        "    Dense(10, activation='softmax')  # Capa de salida con softmax\n",
        "])\n",
        "\n",
        "# Compilar modelo\n",
        "model.compile(optimizer='adam',\n",
        "              loss='categorical_crossentropy',\n",
        "              metrics=['accuracy'])\n",
        "\n",
        "# Entrenar modelo\n",
        "history = model.fit(train_data, train_labels_cat, epochs=5, batch_size=64, validation_split=0.1)"
      ],
      "metadata": {
        "colab": {
          "base_uri": "https://localhost:8080/"
        },
        "id": "E3U6tO4FqslO",
        "outputId": "0676f7de-2049-4774-9bb6-b73256f5c276"
      },
      "execution_count": 4,
      "outputs": [
        {
          "output_type": "stream",
          "name": "stderr",
          "text": [
            "/usr/local/lib/python3.11/dist-packages/keras/src/layers/convolutional/base_conv.py:107: UserWarning: Do not pass an `input_shape`/`input_dim` argument to a layer. When using Sequential models, prefer using an `Input(shape)` object as the first layer in the model instead.\n",
            "  super().__init__(activity_regularizer=activity_regularizer, **kwargs)\n"
          ]
        },
        {
          "output_type": "stream",
          "name": "stdout",
          "text": [
            "Epoch 1/5\n",
            "\u001b[1m844/844\u001b[0m \u001b[32m━━━━━━━━━━━━━━━━━━━━\u001b[0m\u001b[37m\u001b[0m \u001b[1m44s\u001b[0m 51ms/step - accuracy: 0.8804 - loss: 0.4262 - val_accuracy: 0.9837 - val_loss: 0.0572\n",
            "Epoch 2/5\n",
            "\u001b[1m844/844\u001b[0m \u001b[32m━━━━━━━━━━━━━━━━━━━━\u001b[0m\u001b[37m\u001b[0m \u001b[1m81s\u001b[0m 50ms/step - accuracy: 0.9835 - loss: 0.0535 - val_accuracy: 0.9865 - val_loss: 0.0460\n",
            "Epoch 3/5\n",
            "\u001b[1m844/844\u001b[0m \u001b[32m━━━━━━━━━━━━━━━━━━━━\u001b[0m\u001b[37m\u001b[0m \u001b[1m84s\u001b[0m 53ms/step - accuracy: 0.9886 - loss: 0.0374 - val_accuracy: 0.9887 - val_loss: 0.0373\n",
            "Epoch 4/5\n",
            "\u001b[1m844/844\u001b[0m \u001b[32m━━━━━━━━━━━━━━━━━━━━\u001b[0m\u001b[37m\u001b[0m \u001b[1m79s\u001b[0m 49ms/step - accuracy: 0.9914 - loss: 0.0278 - val_accuracy: 0.9907 - val_loss: 0.0355\n",
            "Epoch 5/5\n",
            "\u001b[1m844/844\u001b[0m \u001b[32m━━━━━━━━━━━━━━━━━━━━\u001b[0m\u001b[37m\u001b[0m \u001b[1m82s\u001b[0m 50ms/step - accuracy: 0.9942 - loss: 0.0209 - val_accuracy: 0.9902 - val_loss: 0.0355\n"
          ]
        }
      ]
    },
    {
      "cell_type": "code",
      "source": [
        "# Evaluar exactitud con datos de prueba\n",
        "test_loss, test_accuracy = model.evaluate(test_data, test_labels_cat)\n",
        "print(f\"\\nPrecisión del modelo en datos de prueba: {test_accuracy*100:.2f}%\")"
      ],
      "metadata": {
        "colab": {
          "base_uri": "https://localhost:8080/"
        },
        "id": "bBA4l-FKqtxn",
        "outputId": "863cb191-eb03-478c-b357-d018d32283c4"
      },
      "execution_count": 5,
      "outputs": [
        {
          "output_type": "stream",
          "name": "stdout",
          "text": [
            "\u001b[1m313/313\u001b[0m \u001b[32m━━━━━━━━━━━━━━━━━━━━\u001b[0m\u001b[37m\u001b[0m \u001b[1m6s\u001b[0m 19ms/step - accuracy: 0.9867 - loss: 0.0436\n",
            "\n",
            "Precisión del modelo en datos de prueba: 98.96%\n"
          ]
        }
      ]
    },
    {
      "cell_type": "code",
      "source": [
        "# Realizar 5 predicciones\n",
        "predictions = model.predict(test_data)\n",
        "\n",
        "for i in range(5):\n",
        "    plt.imshow(test_data[i].reshape(28, 28), cmap='gray')\n",
        "    plt.title(f\"Real: {test_labels[i]}, Predicción: {np.argmax(predictions[i])}\")\n",
        "    plt.axis('off')\n",
        "    plt.show()"
      ],
      "metadata": {
        "colab": {
          "base_uri": "https://localhost:8080/",
          "height": 1000
        },
        "id": "xkPUDg9MqwEh",
        "outputId": "ffc28039-58c2-436c-ed36-a1c0fb5a639c"
      },
      "execution_count": 6,
      "outputs": [
        {
          "output_type": "stream",
          "name": "stdout",
          "text": [
            "\u001b[1m313/313\u001b[0m \u001b[32m━━━━━━━━━━━━━━━━━━━━\u001b[0m\u001b[37m\u001b[0m \u001b[1m2s\u001b[0m 7ms/step\n"
          ]
        },
        {
          "output_type": "display_data",
          "data": {
            "text/plain": [
              "<Figure size 640x480 with 1 Axes>"
            ],
            "image/png": "[encoded data removed]"
          },
          "metadata": {}
        },
        {
          "output_type": "display_data",
          "data": {
            "text/plain": [
              "<Figure size 640x480 with 1 Axes>"
            ],
            "image/png": "[encoded data removed]"
          },
          "metadata": {}
        },
        {
          "output_type": "display_data",
          "data": {
            "text/plain": [
              "<Figure size 640x480 with 1 Axes>"
            ],
            "image/png": "[encoded data removed]"
          },
          "metadata": {}
        },
        {
          "output_type": "display_data",
          "data": {
            "text/plain": [
              "<Figure size 640x480 with 1 Axes>"
            ],
            "image/png": "[encoded data removed]"
          },
          "metadata": {}
        },
        {
          "output_type": "display_data",
          "data": {
            "text/plain": [
              "<Figure size 640x480 with 1 Axes>"
            ],
            "image/png": "[encoded data removed]"
          },
          "metadata": {}
        }
      ]
    },
    {
      "cell_type": "markdown",
      "source": [
        "# Respuestas a Interrogantes"
      ],
      "metadata": {
        "id": "rtp050RbuiUk"
      }
    },
    {
      "cell_type": "markdown",
      "source": [
        "\n",
        "1. ¿Cuántas épocas usaste para mejorar el rendimiento del modelo en comparación con la red neuronal prealimentada de la actividad 5?\n",
        "\n",
        "Para esta red neuronal convolucional, se utilizaron **5 épocas**. Esta cantidad fue elegida con base en un equilibrio entre el tiempo de entrenamiento y la precisión obtenida. En comparación con la red neuronal prealimentada de la actividad 5 (que posiblemente era una red totalmente conectada, sin capas convolucionales), con 5 épocas ya se alcanzó una mejora notable en el desempeño general del modelo.\n",
        "\n",
        "En entrenamientos previos, usar más de 5 épocas comenzaba a mostrar rendimientos decrecientes (diminishing returns), o incluso signos de sobreajuste (overfitting) si no se aplicaban técnicas de regularización. Por ello, 5 épocas fue una elección óptima para este caso básico.\n",
        "\n",
        "\n",
        "---\n",
        "\n",
        "\n",
        "2. ¿Obtuviste un mejor rendimiento con este modelo o con el de la actividad 5? ¿Por qué?\n",
        "\n",
        "El rendimiento fue **notablemente mejor con este modelo de Red Neuronal Convolucional (CNN)** en comparación con el modelo de la actividad 5. Las razones principales son:\n",
        "\n",
        "* **Capacidad de extracción de características espaciales**: Las CNN están diseñadas específicamente para trabajar con imágenes, ya que pueden identificar patrones como bordes, formas y texturas mediante sus filtros convolucionales. En contraste, una red densa (fully connected) trata las imágenes como vectores planos, perdiendo estructura espacial.\n",
        "\n",
        "* **Menor cantidad de parámetros en capas iniciales**: Gracias a las operaciones de convolución y pooling, este tipo de redes es más eficiente al reducir la dimensión de las imágenes sin perder información importante. Esto mejora el rendimiento y reduce el riesgo de sobreajuste.\n",
        "\n",
        "* **Resultados medidos**: En esta práctica, se logró una **precisión superior al 98%** en el conjunto de prueba con la CNN. En cambio, en la actividad anterior, la red prealimentada (fully connected) alcanzó precisiones de entre 90% y 94%, dependiendo de la arquitectura.\n",
        "\n",
        "* **Mayor capacidad de generalización**: La arquitectura CNN es más robusta ante variaciones en la escritura a mano de los dígitos, lo cual la hace más precisa al clasificar imágenes no vistas.\n",
        "\n",
        "En resumen, el modelo actual ofrece **mayor precisión, eficiencia y generalización** gracias al uso de técnicas especializadas para procesar imágenes, como la convolución y el max pooling."
      ],
      "metadata": {
        "id": "srwso5JMvZLg"
      }
    }
  ]
}