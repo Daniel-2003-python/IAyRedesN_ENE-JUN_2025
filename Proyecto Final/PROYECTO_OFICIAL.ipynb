{
  "nbformat": 4,
  "nbformat_minor": 0,
  "metadata": {
    "colab": {
      "provenance": [],
      "authorship_tag": "ABX9TyMnaMTM9GhH4kmiCsgxDAbv",
      "include_colab_link": true
    },
    "kernelspec": {
      "name": "python3",
      "display_name": "Python 3"
    },
    "language_info": {
      "name": "python"
    }
  },
  "cells": [
    {
      "cell_type": "markdown",
      "metadata": {
        "id": "view-in-github",
        "colab_type": "text"
      },
      "source": [
        "<a href=\"https://colab.research.google.com/github/Daniel-2003-python/IAyRedesN_ENE-JUN_2025/blob/main/Proyecto%20Final/PROYECTO_OFICIAL.ipynb\" target=\"_parent\"><img src=\"https://colab.research.google.com/assets/colab-badge.svg\" alt=\"Open In Colab\"/></a>"
      ]
    },
    {
      "cell_type": "code",
      "execution_count": 1,
      "metadata": {
        "colab": {
          "base_uri": "https://localhost:8080/"
        },
        "id": "kr7sBYurIVtu",
        "outputId": "c1f844c0-4d52-4623-aa54-30c606998c52"
      },
      "outputs": [
        {
          "output_type": "stream",
          "name": "stdout",
          "text": [
            "Mounted at /content/drive\n",
            "Requirement already satisfied: opencv-python in /usr/local/lib/python3.11/dist-packages (4.11.0.86)\n",
            "Collecting pyserial\n",
            "  Downloading pyserial-3.5-py2.py3-none-any.whl.metadata (1.6 kB)\n",
            "Requirement already satisfied: numpy>=1.21.2 in /usr/local/lib/python3.11/dist-packages (from opencv-python) (2.0.2)\n",
            "Downloading pyserial-3.5-py2.py3-none-any.whl (90 kB)\n",
            "\u001b[2K   \u001b[90m━━━━━━━━━━━━━━━━━━━━━━━━━━━━━━━━━━━━━━━━\u001b[0m \u001b[32m90.6/90.6 kB\u001b[0m \u001b[31m2.5 MB/s\u001b[0m eta \u001b[36m0:00:00\u001b[0m\n",
            "\u001b[?25hInstalling collected packages: pyserial\n",
            "Successfully installed pyserial-3.5\n"
          ]
        },
        {
          "output_type": "stream",
          "name": "stderr",
          "text": [
            "WARNING:absl:Compiled the loaded model, but the compiled metrics have yet to be built. `model.compile_metrics` will be empty until you train or evaluate the model.\n"
          ]
        }
      ],
      "source": [
        "# 1. Montar Drive\n",
        "from google.colab import drive\n",
        "drive.mount('/content/drive')\n",
        "\n",
        "# 2. Instalar librerías necesarias\n",
        "!pip install opencv-python pyserial\n",
        "\n",
        "# 3. Importar librerías\n",
        "import cv2\n",
        "import numpy as np\n",
        "import tensorflow as tf\n",
        "import serial\n",
        "import time\n",
        "\n",
        "# 4. Cargar el modelo desde Drive\n",
        "modelo = tf.keras.models.load_model('/content/drive/MyDrive/proyectos/lenguaje_senas/modelo_senas.h5')\n",
        "clases = ['A', 'B', 'C', 'D']  # ← reemplaza con tus clases reales\n",
        "\n",
        "# 5. Configurar puerto serial (ajusta a tu puerto)\n",
        "# EN COLAB NO FUNCIONA LA COMUNICACIÓN SERIAL DIRECTA.\n",
        "# Este bloque es para uso local en tu PC, lo puedes copiar en un script .py de Python.\n",
        "'''\n",
        "puerto = serial.Serial('COM3', 9600)  # ← Cambia a tu puerto real\n",
        "time.sleep(2)  # Espera a que el ESP32 se reinicie\n",
        "'''\n",
        "\n",
        "# 6. Iniciar cámara (funciona en PC local, no en Colab)\n",
        "cap = cv2.VideoCapture(0)\n",
        "\n",
        "while True:\n",
        "    ret, frame = cap.read()\n",
        "    if not ret:\n",
        "        break\n",
        "\n",
        "    # Preprocesar imagen\n",
        "    img = cv2.resize(frame, (64, 64))  # tamaño que usaste en el entrenamiento\n",
        "    img = img / 255.0\n",
        "    img = np.expand_dims(img, axis=0)\n",
        "\n",
        "    # Predecir\n",
        "    pred = modelo.predict(img)\n",
        "    idx = np.argmax(pred)\n",
        "    clase = clases[idx]\n",
        "    confianza = pred[0][idx]\n",
        "\n",
        "    # Mostrar resultado en la imagen\n",
        "    cv2.putText(frame, f'Letra: {clase} ({confianza*100:.1f}%)', (10, 30),\n",
        "                cv2.FONT_HERSHEY_SIMPLEX, 1, (0, 255, 0), 2)\n",
        "\n",
        "    cv2.imshow('Reconocimiento de Senas', frame)\n",
        "\n",
        "    # ENVIAR SEÑAL AL ESP32 (localmente)\n",
        "    '''\n",
        "    if clase == 'A':\n",
        "        puerto.write(b'1')  # abre compuerta 1\n",
        "    elif clase == 'C':\n",
        "        puerto.write(b'2')  # abre compuerta 2\n",
        "    else:\n",
        "        puerto.write(b'0')  # no hacer nada\n",
        "    '''\n",
        "\n",
        "    if cv2.waitKey(1) & 0xFF == ord('q'):\n",
        "        break\n",
        "\n",
        "# Finalizar\n",
        "cap.release()\n",
        "cv2.destroyAllWindows()\n",
        "# puerto.close()  # solo si se usó serial"
      ]
    }
  ]
}