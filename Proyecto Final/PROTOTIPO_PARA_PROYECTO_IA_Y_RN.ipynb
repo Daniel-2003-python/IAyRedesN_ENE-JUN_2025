{
  "nbformat": 4,
  "nbformat_minor": 0,
  "metadata": {
    "colab": {
      "provenance": [],
      "include_colab_link": true
    },
    "kernelspec": {
      "name": "python3",
      "display_name": "Python 3"
    },
    "language_info": {
      "name": "python"
    }
  },
  "cells": [
    {
      "cell_type": "markdown",
      "metadata": {
        "id": "view-in-github",
        "colab_type": "text"
      },
      "source": [
        "<a href=\"https://colab.research.google.com/github/Daniel-2003-python/IAyRedesN_ENE-JUN_2025/blob/main/Proyecto%20Final/PROTOTIPO_PARA_PROYECTO_IA_Y_RN.ipynb\" target=\"_parent\"><img src=\"https://colab.research.google.com/assets/colab-badge.svg\" alt=\"Open In Colab\"/></a>"
      ]
    },
    {
      "cell_type": "markdown",
      "source": [
        "# PROTOTIPO DE PROYECTO FINAL"
      ],
      "metadata": {
        "id": "-ENgWI4uW3hG"
      }
    },
    {
      "cell_type": "code",
      "source": [
        "from google.colab import drive\n",
        "drive.mount('/content/drive')"
      ],
      "metadata": {
        "colab": {
          "base_uri": "https://localhost:8080/"
        },
        "id": "0jLNr5amRuui",
        "outputId": "0e6c7f73-d312-4a3b-ed57-60dc29df4155"
      },
      "execution_count": 3,
      "outputs": [
        {
          "output_type": "stream",
          "name": "stdout",
          "text": [
            "Mounted at /content/drive\n"
          ]
        }
      ]
    },
    {
      "source": [
        "import tensorflow as tf\n",
        "import os\n",
        "from tensorflow.keras.preprocessing.image import ImageDataGenerator\n",
        "from tensorflow.keras import layers, models\n",
        "\n",
        "\n",
        "# Dataset Path / Route\n",
        "dataset_path = '/content/drive/MyDrive/Robot Sensors/archive/data.csv'\n",
        "\n",
        "# Parameters\n",
        "img_height, img_width = 64, 64\n",
        "batch_size = 32\n",
        "\n",
        "# Image Generator\n",
        "datagen = ImageDataGenerator(rescale=1./255, validation_split=0.2)\n",
        "\n",
        "# Updated path to your image directory\n",
        "# Ensure that 'archive' or the correct directory name is used and it exists\n",
        "# If the 'archive' directory is within '/content/drive/MyDrive/Robot Sensors/'\n",
        "# Then the path should be '/content/drive/MyDrive/Robot Sensors/archive'\n",
        "train_gen = datagen.flow_from_directory(\n",
        "    '/content/drive/MyDrive/Robot Sensors/archive', # Replace with the correct path to your image directory\n",
        "    target_size=(img_height, img_width),\n",
        "    batch_size=batch_size,\n",
        "    class_mode='categorical',\n",
        "    subset='training'\n",
        ")\n",
        "\n",
        "val_gen = datagen.flow_from_directory(\n",
        "    '/content/drive/MyDrive/Robot Sensors/archive', # Replace with the correct path to your image directory\n",
        "    target_size=(img_height, img_width),\n",
        "    batch_size=batch_size,\n",
        "    class_mode='categorical',\n",
        "    subset='validation'\n",
        ")\n",
        "\n",
        "# Model\n",
        "model = models.Sequential([\n",
        "    layers.Conv2D(32, (3,3), activation='relu', input_shape=(img_height, img_width, 3)),\n",
        "    layers.MaxPooling2D(2,2),\n",
        "    layers.Conv2D(64, (3,3), activation='relu'),\n",
        "    layers.MaxPooling2D(2,2),\n",
        "    layers.Flatten(),\n",
        "    layers.Dense(64, activation='relu'),\n",
        "    layers.Dense(train_gen.num_classes, activation='softmax')\n",
        "])\n",
        "\n",
        "model.compile(optimizer='adam', loss='categorical_crossentropy', metrics=['accuracy'])\n",
        "\n",
        "# Training\n",
        "model.fit(train_gen, validation_data=val_gen, epochs=10)\n",
        "\n",
        "# Save Model in Google Drive Archive\n",
        "model.save('/content/drive/MyDrive/proyectos/lenguaje_senas/modelo_senas.h5')"
      ],
      "cell_type": "code",
      "metadata": {
        "colab": {
          "base_uri": "https://localhost:8080/"
        },
        "id": "0nYDGlL816dx",
        "outputId": "028f8124-c304-4e35-f25c-3b3751b2f27e"
      },
      "execution_count": null,
      "outputs": [
        {
          "output_type": "stream",
          "name": "stdout",
          "text": [
            "Found 2101 images belonging to 2 classes.\n",
            "Found 525 images belonging to 2 classes.\n"
          ]
        },
        {
          "output_type": "stream",
          "name": "stderr",
          "text": [
            "/usr/local/lib/python3.11/dist-packages/keras/src/layers/convolutional/base_conv.py:107: UserWarning: Do not pass an `input_shape`/`input_dim` argument to a layer. When using Sequential models, prefer using an `Input(shape)` object as the first layer in the model instead.\n",
            "  super().__init__(activity_regularizer=activity_regularizer, **kwargs)\n",
            "/usr/local/lib/python3.11/dist-packages/keras/src/trainers/data_adapters/py_dataset_adapter.py:121: UserWarning: Your `PyDataset` class should call `super().__init__(**kwargs)` in its constructor. `**kwargs` can include `workers`, `use_multiprocessing`, `max_queue_size`. Do not pass these arguments to `fit()`, as they will be ignored.\n",
            "  self._warn_if_super_not_called()\n"
          ]
        },
        {
          "output_type": "stream",
          "name": "stdout",
          "text": [
            "Epoch 1/10\n",
            "\u001b[1m66/66\u001b[0m \u001b[32m━━━━━━━━━━━━━━━━━━━━\u001b[0m\u001b[37m\u001b[0m \u001b[1m599s\u001b[0m 9s/step - accuracy: 0.9456 - loss: 0.0450 - val_accuracy: 1.0000 - val_loss: 0.0000e+00\n",
            "Epoch 2/10\n",
            "\u001b[1m66/66\u001b[0m \u001b[32m━━━━━━━━━━━━━━━━━━━━\u001b[0m\u001b[37m\u001b[0m \u001b[1m24s\u001b[0m 360ms/step - accuracy: 1.0000 - loss: 0.0000e+00 - val_accuracy: 1.0000 - val_loss: 0.0000e+00\n",
            "Epoch 3/10\n",
            "\u001b[1m66/66\u001b[0m \u001b[32m━━━━━━━━━━━━━━━━━━━━\u001b[0m\u001b[37m\u001b[0m \u001b[1m25s\u001b[0m 372ms/step - accuracy: 1.0000 - loss: 0.0000e+00 - val_accuracy: 1.0000 - val_loss: 0.0000e+00\n",
            "Epoch 4/10\n",
            "\u001b[1m66/66\u001b[0m \u001b[32m━━━━━━━━━━━━━━━━━━━━\u001b[0m\u001b[37m\u001b[0m \u001b[1m40s\u001b[0m 362ms/step - accuracy: 1.0000 - loss: 0.0000e+00 - val_accuracy: 1.0000 - val_loss: 0.0000e+00\n",
            "Epoch 5/10\n",
            "\u001b[1m66/66\u001b[0m \u001b[32m━━━━━━━━━━━━━━━━━━━━\u001b[0m\u001b[37m\u001b[0m \u001b[1m24s\u001b[0m 370ms/step - accuracy: 1.0000 - loss: 0.0000e+00 - val_accuracy: 1.0000 - val_loss: 0.0000e+00\n",
            "Epoch 6/10\n",
            "\u001b[1m66/66\u001b[0m \u001b[32m━━━━━━━━━━━━━━━━━━━━\u001b[0m\u001b[37m\u001b[0m \u001b[1m23s\u001b[0m 344ms/step - accuracy: 1.0000 - loss: 0.0000e+00 - val_accuracy: 1.0000 - val_loss: 0.0000e+00\n",
            "Epoch 7/10\n",
            "\u001b[1m66/66\u001b[0m \u001b[32m━━━━━━━━━━━━━━━━━━━━\u001b[0m\u001b[37m\u001b[0m \u001b[1m24s\u001b[0m 369ms/step - accuracy: 1.0000 - loss: 0.0000e+00 - val_accuracy: 1.0000 - val_loss: 0.0000e+00\n",
            "Epoch 8/10\n",
            "\u001b[1m66/66\u001b[0m \u001b[32m━━━━━━━━━━━━━━━━━━━━\u001b[0m\u001b[37m\u001b[0m \u001b[1m25s\u001b[0m 372ms/step - accuracy: 1.0000 - loss: 0.0000e+00 - val_accuracy: 1.0000 - val_loss: 0.0000e+00\n",
            "Epoch 9/10\n",
            "\u001b[1m66/66\u001b[0m \u001b[32m━━━━━━━━━━━━━━━━━━━━\u001b[0m\u001b[37m\u001b[0m \u001b[1m41s\u001b[0m 372ms/step - accuracy: 1.0000 - loss: 0.0000e+00 - val_accuracy: 1.0000 - val_loss: 0.0000e+00\n",
            "Epoch 10/10\n",
            "\u001b[1m66/66\u001b[0m \u001b[32m━━━━━━━━━━━━━━━━━━━━\u001b[0m\u001b[37m\u001b[0m \u001b[1m23s\u001b[0m 350ms/step - accuracy: 1.0000 - loss: 0.0000e+00 - val_accuracy: 1.0000 - val_loss: 0.0000e+00\n"
          ]
        },
        {
          "output_type": "stream",
          "name": "stderr",
          "text": [
            "WARNING:absl:You are saving your model as an HDF5 file via `model.save()` or `keras.saving.save_model(model)`. This file format is considered legacy. We recommend using instead the native Keras format, e.g. `model.save('my_model.keras')` or `keras.saving.save_model(model, 'my_model.keras')`. \n"
          ]
        }
      ]
    },
    {
      "cell_type": "code",
      "source": [
        "import tensorflow as tf\n",
        "\n",
        "# Cargar el modelo\n",
        "model = tf.keras.models.load_model('/content/drive/MyDrive/proyectos/lenguaje_senas/modelo_senas.h5')\n",
        "\n",
        "# Convertir a TFLite\n",
        "converter = tf.lite.TFLiteConverter.from_keras_model(model)\n",
        "tflite_model = converter.convert()\n",
        "\n",
        "# Guardar el modelo .tflite\n",
        "with open('/content/drive/MyDrive/proyectos/lenguaje_senas/modelo_senas.tflite', 'wb') as f:\n",
        "    f.write(tflite_model)\n",
        "\n",
        "print(\"✅ ¡Conversión a .tflite completada!\")\n"
      ],
      "metadata": {
        "colab": {
          "base_uri": "https://localhost:8080/"
        },
        "id": "3-l95PiOUWaI",
        "outputId": "6e9e27cc-6927-457a-9c92-223afa7957b7"
      },
      "execution_count": null,
      "outputs": [
        {
          "output_type": "stream",
          "name": "stderr",
          "text": [
            "WARNING:absl:Compiled the loaded model, but the compiled metrics have yet to be built. `model.compile_metrics` will be empty until you train or evaluate the model.\n"
          ]
        },
        {
          "output_type": "stream",
          "name": "stdout",
          "text": [
            "Saved artifact at '/tmp/tmpqi2sf1r3'. The following endpoints are available:\n",
            "\n",
            "* Endpoint 'serve'\n",
            "  args_0 (POSITIONAL_ONLY): TensorSpec(shape=(None, 64, 64, 3), dtype=tf.float32, name='input_layer')\n",
            "Output Type:\n",
            "  TensorSpec(shape=(None, 2), dtype=tf.float32, name=None)\n",
            "Captures:\n",
            "  135388248898256: TensorSpec(shape=(), dtype=tf.resource, name=None)\n",
            "  135388248893840: TensorSpec(shape=(), dtype=tf.resource, name=None)\n",
            "  135388248898064: TensorSpec(shape=(), dtype=tf.resource, name=None)\n",
            "  135388248892688: TensorSpec(shape=(), dtype=tf.resource, name=None)\n",
            "  135388248894800: TensorSpec(shape=(), dtype=tf.resource, name=None)\n",
            "  135388248892112: TensorSpec(shape=(), dtype=tf.resource, name=None)\n",
            "  135388248895184: TensorSpec(shape=(), dtype=tf.resource, name=None)\n",
            "  135388248893072: TensorSpec(shape=(), dtype=tf.resource, name=None)\n",
            "✅ ¡Conversión a .tflite completada!\n"
          ]
        }
      ]
    },
    {
      "source": [
        "import cv2\n",
        "import numpy as np\n",
        "import tensorflow as tf\n",
        "import os # Import the os module\n",
        "\n",
        "# Verify the file exists before attempting to load\n",
        "tflite_model_path = '/content/drive/MyDrive/proyectos/lenguaje_senas/modelo_senas.tflite'\n",
        "\n",
        "if os.path.exists(tflite_model_path):\n",
        "    print(f\"✅ Found TFLite model at: {tflite_model_path}\")\n",
        "    # Cargar el modelo TFLite\n",
        "    interpreter = tf.lite.Interpreter(model_path=tflite_model_path)\n",
        "    interpreter.allocate_tensors()\n",
        "\n",
        "    # Obtener Detalles de Entrada/Salida\n",
        "    input_details = interpreter.get_input_details()\n",
        "    output_details = interpreter.get_output_details()\n",
        "\n",
        "    # Tamaño de Espera de Modelo\n",
        "    input_shape = input_details[0]['shape']\n",
        "    input_height = input_shape[1]\n",
        "    input_width = input_shape[2]\n",
        "\n",
        "    # Iniciar Cámara (Puede ser de 0,1 dependiendo el dispositivo)\n",
        "    # Note: Accessing local camera (0) might not work directly in Google Colab's environment.\n",
        "    # For webcam access in Colab, you typically need to use specific Colab functionalities.\n",
        "    # For now, keep the line but be aware it might not capture video.\n",
        "    cap = cv2.VideoCapture(0)\n",
        "\n",
        "    if not cap.isOpened():\n",
        "        print(\"⚠️ Warning: Could not open camera. Live inference will not work.\")\n",
        "        # You might want to break or handle this case differently if camera access is essential.\n",
        "        # For this example, we'll proceed assuming 'cap' might be used later\n",
        "        # or the code is adapted for a different environment.\n",
        "\n",
        "\n",
        "    while True:\n",
        "        ret, frame = cap.read()\n",
        "        if not ret:\n",
        "            # If camera could not be opened or frame not read, break the loop\n",
        "            if not cap.isOpened():\n",
        "                break\n",
        "            print(\"⚠️ Warning: Could not read frame from camera.\")\n",
        "            continue # Try reading the next frame\n",
        "\n",
        "        # Preprocesamiento\n",
        "        img = cv2.resize(frame, (input_width, input_height))\n",
        "        img = img.astype(np.float32) / 255.0\n",
        "        input_data = np.expand_dims(img, axis=0)\n",
        "\n",
        "        # Realizar Inferencia\n",
        "        interpreter.set_tensor(input_details[0]['index'], input_data)\n",
        "        interpreter.invoke()\n",
        "        output_data = interpreter.get_tensor(output_details[0]['index'])\n",
        "\n",
        "        # Procesar Resultados\n",
        "        prediction = np.argmax(output_data)\n",
        "        confidence = np.max(output_data)\n",
        "\n",
        "        # Mostrar en la Pantalla\n",
        "        label = f'Prediction: {prediction}, Confidence: {confidence:.2f}'\n",
        "        # Ensure frame is not None before putting text and showing\n",
        "        if frame is not None:\n",
        "             cv2.putText(frame, label, (10, 30), cv2.FONT_HERSHEY_SIMPLEX, 1, (0, 255, 0), 2)\n",
        "             cv2.imshow('Lenguaje Senas', frame)\n",
        "        else:\n",
        "             print(\"⚠️ Warning: 'frame' is None, cannot display image.\")\n",
        "             break # Exit loop if frame is unexpectedly None\n",
        "\n",
        "\n",
        "        # Salir con Tecla 'Q'\n",
        "        if cv2.waitKey(1) & 0xFF == ord('q'):\n",
        "            break\n",
        "\n",
        "    cap.release()\n",
        "    cv2.destroyAllWindows()\n",
        "\n",
        "else:\n",
        "    print(f\"❌ Error: TFLite model not found at: {tflite_model_path}\")\n",
        "    print(\"Please ensure the previous cell executed successfully and saved the model to the correct path.\")"
      ],
      "cell_type": "code",
      "metadata": {
        "id": "em_bAcdQGv2o",
        "outputId": "42c9dbf3-b4e7-417e-8bd3-b5d2ad42f2ea",
        "colab": {
          "base_uri": "https://localhost:8080/"
        }
      },
      "execution_count": 4,
      "outputs": [
        {
          "output_type": "stream",
          "name": "stdout",
          "text": [
            "✅ Found TFLite model at: /content/drive/MyDrive/proyectos/lenguaje_senas/modelo_senas.tflite\n",
            "⚠️ Warning: Could not open camera. Live inference will not work.\n"
          ]
        }
      ]
    }
  ]
}